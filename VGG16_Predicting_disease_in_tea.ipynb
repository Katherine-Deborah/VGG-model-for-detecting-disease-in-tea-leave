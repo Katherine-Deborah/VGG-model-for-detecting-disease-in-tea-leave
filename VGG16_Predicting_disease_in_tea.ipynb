{
 "cells": [
  {
   "cell_type": "code",
   "execution_count": 1,
   "id": "6357abf6",
   "metadata": {},
   "outputs": [],
   "source": [
    "from tensorflow.keras.layers import Dense, Flatten, Input\n",
    "from tensorflow.keras.models import Model\n",
    "from tensorflow.keras.preprocessing import image\n",
    "from tensorflow.keras.preprocessing.image import ImageDataGenerator,load_img\n",
    "from tensorflow.keras.applications.vgg16 import VGG16, preprocess_input\n",
    "from glob import glob\n",
    "import numpy as np\n",
    "import matplotlib.pyplot as plt"
   ]
  },
  {
   "cell_type": "code",
   "execution_count": 2,
   "id": "620ac9b7",
   "metadata": {
    "scrolled": true
   },
   "outputs": [],
   "source": [
    "imageSize = (224, 224)\n",
    "vgg = VGG16(input_shape=imageSize + (3,), weights='imagenet', include_top=False)"
   ]
  },
  {
   "cell_type": "code",
   "execution_count": 3,
   "id": "04045ab4",
   "metadata": {},
   "outputs": [],
   "source": [
    "for layer in vgg.layers:\n",
    "    layer.trainable=False"
   ]
  },
  {
   "cell_type": "code",
   "execution_count": 4,
   "id": "33e153c8",
   "metadata": {},
   "outputs": [],
   "source": [
    "x=Flatten()(vgg.output)"
   ]
  },
  {
   "cell_type": "code",
   "execution_count": 28,
   "id": "0075da74",
   "metadata": {},
   "outputs": [],
   "source": [
    "x=Dense(128,activation='relu')(x)"
   ]
  },
  {
   "cell_type": "code",
   "execution_count": 5,
   "id": "1adb7a66",
   "metadata": {},
   "outputs": [],
   "source": [
    "output_layer=Dense(8,activation='softmax')(x)"
   ]
  },
  {
   "cell_type": "code",
   "execution_count": 6,
   "id": "8be89166",
   "metadata": {},
   "outputs": [],
   "source": [
    "model=Model(inputs=vgg.input,outputs=output_layer)"
   ]
  },
  {
   "cell_type": "code",
   "execution_count": 7,
   "id": "1f6dd624",
   "metadata": {},
   "outputs": [
    {
     "name": "stdout",
     "output_type": "stream",
     "text": [
      "Model: \"model\"\n",
      "_________________________________________________________________\n",
      " Layer (type)                Output Shape              Param #   \n",
      "=================================================================\n",
      " input_1 (InputLayer)        [(None, 224, 224, 3)]     0         \n",
      "                                                                 \n",
      " block1_conv1 (Conv2D)       (None, 224, 224, 64)      1792      \n",
      "                                                                 \n",
      " block1_conv2 (Conv2D)       (None, 224, 224, 64)      36928     \n",
      "                                                                 \n",
      " block1_pool (MaxPooling2D)  (None, 112, 112, 64)      0         \n",
      "                                                                 \n",
      " block2_conv1 (Conv2D)       (None, 112, 112, 128)     73856     \n",
      "                                                                 \n",
      " block2_conv2 (Conv2D)       (None, 112, 112, 128)     147584    \n",
      "                                                                 \n",
      " block2_pool (MaxPooling2D)  (None, 56, 56, 128)       0         \n",
      "                                                                 \n",
      " block3_conv1 (Conv2D)       (None, 56, 56, 256)       295168    \n",
      "                                                                 \n",
      " block3_conv2 (Conv2D)       (None, 56, 56, 256)       590080    \n",
      "                                                                 \n",
      " block3_conv3 (Conv2D)       (None, 56, 56, 256)       590080    \n",
      "                                                                 \n",
      " block3_pool (MaxPooling2D)  (None, 28, 28, 256)       0         \n",
      "                                                                 \n",
      " block4_conv1 (Conv2D)       (None, 28, 28, 512)       1180160   \n",
      "                                                                 \n",
      " block4_conv2 (Conv2D)       (None, 28, 28, 512)       2359808   \n",
      "                                                                 \n",
      " block4_conv3 (Conv2D)       (None, 28, 28, 512)       2359808   \n",
      "                                                                 \n",
      " block4_pool (MaxPooling2D)  (None, 14, 14, 512)       0         \n",
      "                                                                 \n",
      " block5_conv1 (Conv2D)       (None, 14, 14, 512)       2359808   \n",
      "                                                                 \n",
      " block5_conv2 (Conv2D)       (None, 14, 14, 512)       2359808   \n",
      "                                                                 \n",
      " block5_conv3 (Conv2D)       (None, 14, 14, 512)       2359808   \n",
      "                                                                 \n",
      " block5_pool (MaxPooling2D)  (None, 7, 7, 512)         0         \n",
      "                                                                 \n",
      " flatten (Flatten)           (None, 25088)             0         \n",
      "                                                                 \n",
      " dense (Dense)               (None, 8)                 200712    \n",
      "                                                                 \n",
      "=================================================================\n",
      "Total params: 14915400 (56.90 MB)\n",
      "Trainable params: 200712 (784.03 KB)\n",
      "Non-trainable params: 14714688 (56.13 MB)\n",
      "_________________________________________________________________\n"
     ]
    }
   ],
   "source": [
    "model.summary()"
   ]
  },
  {
   "cell_type": "code",
   "execution_count": 8,
   "id": "2ccc7dee",
   "metadata": {},
   "outputs": [],
   "source": [
    "model.compile(\n",
    "   loss='categorical_crossentropy',\n",
    "   optimizer='adam',\n",
    "   metrics=['accuracy'], run_eagerly=True\n",
    ")"
   ]
  },
  {
   "cell_type": "code",
   "execution_count": 9,
   "id": "22704c5f",
   "metadata": {},
   "outputs": [],
   "source": [
    "train_datagen = ImageDataGenerator(rescale=1./255,\n",
    "                                 shear_range=0.2,\n",
    "                                 zoom_range=0.2,\n",
    "                                 horizontal_flip=True)\n",
    "test_datagen = ImageDataGenerator(rescale=1./255)"
   ]
  },
  {
   "cell_type": "code",
   "execution_count": 10,
   "id": "0d32198e",
   "metadata": {},
   "outputs": [],
   "source": [
    "train_data_dir = 'training dataset'\n",
    "test_data_dir = 'testing dataset'\n",
    "\n",
    "batch_size = 10\n",
    "target_size = (224, 224) "
   ]
  },
  {
   "cell_type": "code",
   "execution_count": 11,
   "id": "7fbe5766",
   "metadata": {},
   "outputs": [
    {
     "name": "stdout",
     "output_type": "stream",
     "text": [
      "Found 706 images belonging to 8 classes.\n",
      "Found 179 images belonging to 8 classes.\n",
      "List of classes: {'Anthracnose': 0, 'algal leaf': 1, 'bird eye spot': 2, 'brown blight': 3, 'gray light': 4, 'healthy': 5, 'red leaf spot': 6, 'white spot': 7}\n"
     ]
    }
   ],
   "source": [
    "train_generator = train_datagen.flow_from_directory(\n",
    "    train_data_dir,\n",
    "    target_size=target_size,\n",
    "    batch_size=batch_size,\n",
    "    class_mode='categorical'  # Set to 'int' or 'categorical' based on your label encoding\n",
    ")\n",
    "\n",
    "test_generator = test_datagen.flow_from_directory(\n",
    "    test_data_dir,\n",
    "    target_size=target_size,\n",
    "    batch_size=batch_size,\n",
    "    class_mode='categorical'  # Set to 'int' or 'categorical' based on your label encoding\n",
    ")\n",
    "\n",
    "# Print the list of classes\n",
    "class_labels = train_generator.class_indices\n",
    "print(\"List of classes:\", class_labels)"
   ]
  },
  {
   "cell_type": "code",
   "execution_count": null,
   "id": "fef73c79",
   "metadata": {},
   "outputs": [
    {
     "name": "stderr",
     "output_type": "stream",
     "text": [
      "C:\\Users\\91999\\AppData\\Local\\Temp\\ipykernel_12280\\1636968778.py:5: UserWarning: `Model.fit_generator` is deprecated and will be removed in a future version. Please use `Model.fit`, which supports generators.\n",
      "  history = model.fit_generator(\n"
     ]
    },
    {
     "name": "stdout",
     "output_type": "stream",
     "text": [
      "Epoch 1/30\n",
      "71/71 [==============================] - 396s 6s/step - loss: 1.9508 - accuracy: 0.4377 - val_loss: 0.9071 - val_accuracy: 0.6201\n",
      "Epoch 2/30\n",
      "71/71 [==============================] - 409s 6s/step - loss: 0.8063 - accuracy: 0.7040 - val_loss: 0.8536 - val_accuracy: 0.6760\n",
      "Epoch 3/30\n",
      "71/71 [==============================] - 404s 6s/step - loss: 0.6805 - accuracy: 0.7606 - val_loss: 0.7896 - val_accuracy: 0.7207\n",
      "Epoch 4/30\n",
      "71/71 [==============================] - 406s 6s/step - loss: 0.4716 - accuracy: 0.8329 - val_loss: 0.7678 - val_accuracy: 0.7095\n",
      "Epoch 5/30\n",
      "71/71 [==============================] - 413s 6s/step - loss: 0.3745 - accuracy: 0.8824 - val_loss: 0.9218 - val_accuracy: 0.6816\n",
      "Epoch 6/30\n",
      "71/71 [==============================] - 408s 6s/step - loss: 0.2919 - accuracy: 0.9108 - val_loss: 0.7041 - val_accuracy: 0.7877\n",
      "Epoch 7/30\n",
      "71/71 [==============================] - 403s 6s/step - loss: 0.2241 - accuracy: 0.9249 - val_loss: 0.5996 - val_accuracy: 0.7877\n",
      "Epoch 8/30\n",
      "71/71 [==============================] - 32019s 457s/step - loss: 0.3373 - accuracy: 0.9093 - val_loss: 0.7321 - val_accuracy: 0.7486\n",
      "Epoch 9/30\n",
      "71/71 [==============================] - 394s 6s/step - loss: 0.2409 - accuracy: 0.9051 - val_loss: 0.7307 - val_accuracy: 0.7765\n",
      "Epoch 10/30\n",
      "71/71 [==============================] - 411s 6s/step - loss: 0.1551 - accuracy: 0.9518 - val_loss: 0.7905 - val_accuracy: 0.7542\n",
      "Epoch 11/30\n",
      "71/71 [==============================] - 413s 6s/step - loss: 0.2296 - accuracy: 0.9235 - val_loss: 0.7332 - val_accuracy: 0.7933\n",
      "Epoch 12/30\n",
      "71/71 [==============================] - 414s 6s/step - loss: 0.2023 - accuracy: 0.9320 - val_loss: 1.1037 - val_accuracy: 0.6983\n",
      "Epoch 13/30\n",
      "71/71 [==============================] - 404s 6s/step - loss: 0.1594 - accuracy: 0.9377 - val_loss: 0.6505 - val_accuracy: 0.8324\n",
      "Epoch 14/30\n",
      "71/71 [==============================] - 404s 6s/step - loss: 0.1221 - accuracy: 0.9632 - val_loss: 0.6152 - val_accuracy: 0.8436\n",
      "Epoch 15/30\n",
      "71/71 [==============================] - 403s 6s/step - loss: 0.0863 - accuracy: 0.9773 - val_loss: 0.7393 - val_accuracy: 0.7877\n",
      "Epoch 16/30\n",
      "51/71 [====================>.........] - ETA: 1:49 - loss: 0.0948 - accuracy: 0.9625"
     ]
    }
   ],
   "source": [
    "# Define the number of epochs\n",
    "num_epochs = 30\n",
    "\n",
    "# Train the model\n",
    "history = model.fit_generator(\n",
    "    train_generator,\n",
    "    steps_per_epoch=len(train_generator),\n",
    "    epochs=num_epochs,\n",
    "    validation_data=test_generator,\n",
    "    validation_steps=len(test_generator)\n",
    ")\n",
    "\n",
    "# Calculate and print the final accuracy\n",
    "final_accuracy = history.history['val_accuracy'][-1]\n",
    "print(\"Accuracy after 30 epochs:\", final_accuracy)\n"
   ]
  },
  {
   "cell_type": "code",
   "execution_count": null,
   "id": "d06ff99c",
   "metadata": {},
   "outputs": [],
   "source": [
    "model.save(\"vgg16-predicting-disease-in-tea.h5\")"
   ]
  }
 ],
 "metadata": {
  "kernelspec": {
   "display_name": "Python 3 (ipykernel)",
   "language": "python",
   "name": "python3"
  },
  "language_info": {
   "codemirror_mode": {
    "name": "ipython",
    "version": 3
   },
   "file_extension": ".py",
   "mimetype": "text/x-python",
   "name": "python",
   "nbconvert_exporter": "python",
   "pygments_lexer": "ipython3",
   "version": "3.11.4"
  }
 },
 "nbformat": 4,
 "nbformat_minor": 5
}
