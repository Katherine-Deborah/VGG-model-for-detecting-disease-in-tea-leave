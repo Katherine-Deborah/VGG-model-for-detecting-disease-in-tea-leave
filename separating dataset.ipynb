{
 "cells": [
  {
   "cell_type": "code",
   "execution_count": 1,
   "id": "5c35c451",
   "metadata": {},
   "outputs": [],
   "source": [
    "import os\n",
    "import shutil\n",
    "from sklearn.model_selection import train_test_split\n",
    "\n",
    "main_data_directory = 'tea sickness dataset'\n",
    "train_data_directory = 'training dataset'\n",
    "test_data_directory = 'testing dataset'\n",
    "\n",
    "# Create train and test directories if they don't exist\n",
    "os.makedirs(train_data_directory, exist_ok=True)\n",
    "os.makedirs(test_data_directory, exist_ok=True)\n",
    "\n",
    "# Iterate through each class subdirectory\n",
    "for class_name in os.listdir(main_data_directory):\n",
    "    class_directory = os.path.join(main_data_directory, class_name)\n",
    "    \n",
    "    # Split the images into training and test sets\n",
    "    images = os.listdir(class_directory)\n",
    "    train_images, test_images = train_test_split(images, test_size=0.2, random_state=42)\n",
    "    \n",
    "    # Move training set images to the train_data_directory\n",
    "    for image in train_images:\n",
    "        src = os.path.join(class_directory, image)\n",
    "        dst = os.path.join(train_data_directory, class_name, image)\n",
    "        os.makedirs(os.path.dirname(dst), exist_ok=True)\n",
    "        shutil.move(src, dst)\n",
    "    \n",
    "    # Move test set images to the test_data_directory\n",
    "    for image in test_images:\n",
    "        src = os.path.join(class_directory, image)\n",
    "        dst = os.path.join(test_data_directory, class_name, image)\n",
    "        os.makedirs(os.path.dirname(dst), exist_ok=True)\n",
    "        shutil.move(src, dst)"
   ]
  }
 ],
 "metadata": {
  "kernelspec": {
   "display_name": "Python 3 (ipykernel)",
   "language": "python",
   "name": "python3"
  },
  "language_info": {
   "codemirror_mode": {
    "name": "ipython",
    "version": 3
   },
   "file_extension": ".py",
   "mimetype": "text/x-python",
   "name": "python",
   "nbconvert_exporter": "python",
   "pygments_lexer": "ipython3",
   "version": "3.11.4"
  }
 },
 "nbformat": 4,
 "nbformat_minor": 5
}
